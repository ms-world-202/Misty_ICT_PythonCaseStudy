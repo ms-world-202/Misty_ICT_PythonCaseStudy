{
  "nbformat": 4,
  "nbformat_minor": 0,
  "metadata": {
    "colab": {
      "provenance": []
    },
    "kernelspec": {
      "name": "python3",
      "display_name": "Python 3"
    },
    "language_info": {
      "name": "python"
    }
  },
  "cells": [
    {
      "cell_type": "markdown",
      "source": [
        "1. Grocery Store Bill Calculator\n",
        "A grocery store wants a program to calculate the total bill for a customer.\n",
        "a. Store the prices of items in a dictionary (e.g., {'apple': 10, 'milk': 50})\n",
        "b. Take the items purchased and their quantities as input.\n",
        "c. Calculate and display the total bill amount."
      ],
      "metadata": {
        "id": "6GuJuc1rWoEc"
      }
    },
    {
      "cell_type": "code",
      "source": [
        "prices = {\"apple\":18,\"orange\":15,\"banana\":12,\"milk\":26,\"egg\":10}\n",
        "def calc_bill():\n",
        "  tot_bill = 0\n",
        "  while(1):\n",
        "    item = input(\"Enter the item/enter 'end' if over: \").lower()\n",
        "    if item == \"end\":\n",
        "      break\n",
        "    if item in prices:\n",
        "      quant = float(input(f\"Enter the quantity of {item} in standard units: \"))\n",
        "      if quant<0:\n",
        "        print(\"invalid quantity\")\n",
        "        continue\n",
        "      tot_bill += quant * prices[item]\n",
        "    else:\n",
        "      print(\"Item is not available\")\n",
        "  return tot_bill\n",
        "\n",
        "print(f\"Total Bill: Rs {calc_bill()}\")"
      ],
      "metadata": {
        "colab": {
          "base_uri": "https://localhost:8080/"
        },
        "id": "dt0sgLZ9Ws4j",
        "outputId": "778dd631-66c3-4bf5-825e-4375349200ec"
      },
      "execution_count": 12,
      "outputs": [
        {
          "output_type": "stream",
          "name": "stdout",
          "text": [
            "Enter the item/enter 'end' if over: Apple\n",
            "Enter the quantity of apple in standard units: 2\n",
            "Enter the item/enter 'end' if over: orangE\n",
            "Enter the quantity of orange in standard units: 3\n",
            "Enter the item/enter 'end' if over: milk\n",
            "Enter the quantity of milk in standard units: 1\n",
            "Enter the item/enter 'end' if over: end\n",
            "Total Bill: Rs 107.0\n"
          ]
        }
      ]
    },
    {
      "cell_type": "markdown",
      "source": [
        "2.Student Grade Calculator\n",
        "A teacher wants a program to calculate grades for students based on their marks.\n",
        "a. Store marks for 5 subjects in a list.\n",
        "b. Calculate the average and determine the grade:\n",
        "o 90+ -> A\n",
        "o 70-89 -> B\n",
        "o 50-69 -> C\n",
        "o <50 -> F\n",
        "c. Display the average and the grade."
      ],
      "metadata": {
        "id": "u3uO7SkwhaIN"
      }
    },
    {
      "cell_type": "code",
      "source": [
        "marks = []\n",
        "for i in range(5):\n",
        "  mark = float(input(f\"Enter the mark for subject {i+1} (out of 100):\"))\n",
        "  if mark>=0 and mark<=100:\n",
        "    marks.append(mark)\n",
        "  else:\n",
        "    print(\"Invalid mark\")\n",
        "    break\n",
        "tot_mark = sum(marks)\n",
        "avg_mark = tot_mark/5\n",
        "print(f\"Average mark : {avg_mark}\")\n",
        "if avg_mark>=90 :\n",
        "  print(\"Grade: A\")\n",
        "elif avg_mark>=70 and avg_mark<=89 :\n",
        "  print(\"Grade: B\")\n",
        "elif avg_mark>=50 and avg_mark<=69 :\n",
        "  print(\"Grade: C\")\n",
        "else :\n",
        "  print(\"Grade: F\")"
      ],
      "metadata": {
        "colab": {
          "base_uri": "https://localhost:8080/"
        },
        "id": "e99NczpbhhJa",
        "outputId": "87957a31-5642-4523-f933-143f4da54b26"
      },
      "execution_count": 23,
      "outputs": [
        {
          "output_type": "stream",
          "name": "stdout",
          "text": [
            "Enter the mark for subject 1 (out of 100):23\n",
            "Enter the mark for subject 2 (out of 100):45\n",
            "Enter the mark for subject 3 (out of 100):98\n",
            "Enter the mark for subject 4 (out of 100):87\n",
            "Enter the mark for subject 5 (out of 100):90\n",
            "Average mark : 68.6\n",
            "Grade: C\n"
          ]
        }
      ]
    },
    {
      "cell_type": "markdown",
      "source": [
        "3. A movie theatre wants to automate ticket booking for customers.\n",
        "a. Use a list to store the available seats (e.g., [1, 2, 3, ..., 20]).\n",
        "b. Allow the customer to book a seat by entering the seat number.\n",
        "c. After booking, remove the seat from the list of available seats.\n",
        "d. Display the remaining available seats."
      ],
      "metadata": {
        "id": "E04EBzSZqIv4"
      }
    },
    {
      "cell_type": "code",
      "source": [
        "seats = [i for i in range(1,21)]\n",
        "def book_seat():\n",
        "  while (1):\n",
        "    print(\"Available seats are:\")\n",
        "    print(seats)\n",
        "    seat = int(input(\"Enter desired seat number/ enter '0' to end : \"))\n",
        "    if seat == 0 :\n",
        "      print(\"\\t\\t\\tThank You\")\n",
        "      break\n",
        "    elif seat in seats:\n",
        "      print(f\"\\t\\tYou have booked seat no.{seat}\")\n",
        "      seats.remove(seat)\n",
        "    else:\n",
        "      print(\"Sorry! Seat is taken\")\n",
        "\n",
        "book_seat()\n",
        ""
      ],
      "metadata": {
        "colab": {
          "base_uri": "https://localhost:8080/"
        },
        "id": "cefK3VwyqOor",
        "outputId": "36b2ec4c-46fc-4eb3-878e-28fd3bc3e928"
      },
      "execution_count": 35,
      "outputs": [
        {
          "output_type": "stream",
          "name": "stdout",
          "text": [
            "Available seats are:\n",
            "[1, 2, 3, 4, 5, 6, 7, 8, 9, 10, 11, 12, 13, 14, 15, 16, 17, 18, 19, 20]\n",
            "Enter desired seat number/ enter '0' to end : 2\n",
            "\t\tYou have booked seat no.2\n",
            "Available seats are:\n",
            "[1, 3, 4, 5, 6, 7, 8, 9, 10, 11, 12, 13, 14, 15, 16, 17, 18, 19, 20]\n",
            "Enter desired seat number/ enter '0' to end : 15\n",
            "\t\tYou have booked seat no.15\n",
            "Available seats are:\n",
            "[1, 3, 4, 5, 6, 7, 8, 9, 10, 11, 12, 13, 14, 16, 17, 18, 19, 20]\n",
            "Enter desired seat number/ enter '0' to end : 0\n",
            "\t\t\tThank You\n"
          ]
        }
      ]
    }
  ]
}